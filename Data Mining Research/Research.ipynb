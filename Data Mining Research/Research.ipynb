{
 "cells": [
  {
   "cell_type": "code",
   "execution_count": 1,
   "metadata": {},
   "outputs": [],
   "source": [
    "import numpy as np\n",
    "import pandas as pd\n",
    "import matplotlib.pyplot as mtp\n",
    "from sklearn.model_selection import train_test_split\n",
    "from sklearn.impute import SimpleImputer\n",
    "from sklearn.preprocessing import LabelEncoder\n",
    "\n",
    "from sklearn import metrics\n",
    "from sklearn.ensemble import RandomForestClassifier\n",
    "from sklearn.ensemble import AdaBoostClassifier\n",
    "from sklearn.ensemble import GradientBoostingClassifier\n",
    "from sklearn.neural_network import MLPClassifier\n"
   ]
  },
  {
   "cell_type": "code",
   "execution_count": 11,
   "metadata": {},
   "outputs": [],
   "source": [
    "data_set=pd.read_csv(\"Social_media_effect.csv\")"
   ]
  },
  {
   "cell_type": "code",
   "execution_count": 12,
   "metadata": {},
   "outputs": [
    {
     "data": {
      "text/html": [
       "<div>\n",
       "<style scoped>\n",
       "    .dataframe tbody tr th:only-of-type {\n",
       "        vertical-align: middle;\n",
       "    }\n",
       "\n",
       "    .dataframe tbody tr th {\n",
       "        vertical-align: top;\n",
       "    }\n",
       "\n",
       "    .dataframe thead th {\n",
       "        text-align: right;\n",
       "    }\n",
       "</style>\n",
       "<table border=\"1\" class=\"dataframe\">\n",
       "  <thead>\n",
       "    <tr style=\"text-align: right;\">\n",
       "      <th></th>\n",
       "      <th>What is your age?</th>\n",
       "      <th>Which social media platform/s do you like the most or use the most?</th>\n",
       "      <th>Number of social medial do you use ?</th>\n",
       "      <th>How much time do you spend on social media in a day?</th>\n",
       "      <th>How much time do you spend on physical activities in a day?</th>\n",
       "      <th>How much do you feel that you are exposed to inappropriate content on these platforms (out of 10)?</th>\n",
       "      <th>Have you ever been a victim of any of these cyber crimes?</th>\n",
       "      <th>Which type of communication do you generally prefer?</th>\n",
       "      <th>Measurement Effect in human</th>\n",
       "    </tr>\n",
       "  </thead>\n",
       "  <tbody>\n",
       "    <tr>\n",
       "      <th>0</th>\n",
       "      <td>19</td>\n",
       "      <td>Whatsapp, Facebook, Instagram</td>\n",
       "      <td>3.0</td>\n",
       "      <td>upto 4 hrs</td>\n",
       "      <td>less than 1 hr</td>\n",
       "      <td>3</td>\n",
       "      <td>Fake profiles</td>\n",
       "      <td>through phone</td>\n",
       "      <td>High</td>\n",
       "    </tr>\n",
       "    <tr>\n",
       "      <th>1</th>\n",
       "      <td>19</td>\n",
       "      <td>Whatsapp, Facebook, Youtube, Instagram</td>\n",
       "      <td>4.0</td>\n",
       "      <td>more than 4 hrs</td>\n",
       "      <td>less than 1 hr</td>\n",
       "      <td>5</td>\n",
       "      <td>Photos being misused</td>\n",
       "      <td>Text message</td>\n",
       "      <td>High</td>\n",
       "    </tr>\n",
       "    <tr>\n",
       "      <th>2</th>\n",
       "      <td>19</td>\n",
       "      <td>Whatsapp, Facebook, Instagram</td>\n",
       "      <td>3.0</td>\n",
       "      <td>upto 4 hrs</td>\n",
       "      <td>less than 1 hr</td>\n",
       "      <td>5</td>\n",
       "      <td>Hacking</td>\n",
       "      <td>through phone</td>\n",
       "      <td>High</td>\n",
       "    </tr>\n",
       "    <tr>\n",
       "      <th>3</th>\n",
       "      <td>19</td>\n",
       "      <td>Whatsapp, Facebook, Youtube, Twitter</td>\n",
       "      <td>4.0</td>\n",
       "      <td>1 - 2.5 hrs</td>\n",
       "      <td>less than 1 hr</td>\n",
       "      <td>2</td>\n",
       "      <td>None of the above</td>\n",
       "      <td>face to face</td>\n",
       "      <td>Low</td>\n",
       "    </tr>\n",
       "    <tr>\n",
       "      <th>4</th>\n",
       "      <td>18</td>\n",
       "      <td>Youtube, Instagram</td>\n",
       "      <td>2.0</td>\n",
       "      <td>upto 4 hrs</td>\n",
       "      <td>1 - 2.5 hrs</td>\n",
       "      <td>3</td>\n",
       "      <td>None of the above</td>\n",
       "      <td>Text message</td>\n",
       "      <td>High</td>\n",
       "    </tr>\n",
       "    <tr>\n",
       "      <th>...</th>\n",
       "      <td>...</td>\n",
       "      <td>...</td>\n",
       "      <td>...</td>\n",
       "      <td>...</td>\n",
       "      <td>...</td>\n",
       "      <td>...</td>\n",
       "      <td>...</td>\n",
       "      <td>...</td>\n",
       "      <td>...</td>\n",
       "    </tr>\n",
       "    <tr>\n",
       "      <th>286</th>\n",
       "      <td>19</td>\n",
       "      <td>Whatsapp, Facebook, Youtube, Instagram, Hike</td>\n",
       "      <td>5.0</td>\n",
       "      <td>1 - 2.5 hrs</td>\n",
       "      <td>none</td>\n",
       "      <td>5</td>\n",
       "      <td>None of the above</td>\n",
       "      <td>face to face, through social media</td>\n",
       "      <td>Low</td>\n",
       "    </tr>\n",
       "    <tr>\n",
       "      <th>287</th>\n",
       "      <td>18</td>\n",
       "      <td>Instagram</td>\n",
       "      <td>1.0</td>\n",
       "      <td>upto 4 hrs</td>\n",
       "      <td>1 - 2.5 hrs</td>\n",
       "      <td>10</td>\n",
       "      <td>None of the above</td>\n",
       "      <td>through phone, through social media</td>\n",
       "      <td>High</td>\n",
       "    </tr>\n",
       "    <tr>\n",
       "      <th>288</th>\n",
       "      <td>18</td>\n",
       "      <td>Whatsapp</td>\n",
       "      <td>1.0</td>\n",
       "      <td>1 - 2.5 hrs</td>\n",
       "      <td>1 - 2.5 hrs</td>\n",
       "      <td>4</td>\n",
       "      <td>Hacking</td>\n",
       "      <td>through social media</td>\n",
       "      <td>Low</td>\n",
       "    </tr>\n",
       "    <tr>\n",
       "      <th>289</th>\n",
       "      <td>19</td>\n",
       "      <td>Whatsapp, Youtube, Twitter</td>\n",
       "      <td>3.0</td>\n",
       "      <td>more than 4 hrs</td>\n",
       "      <td>less than 1 hr</td>\n",
       "      <td>3</td>\n",
       "      <td>None of the above</td>\n",
       "      <td>through social media</td>\n",
       "      <td>High</td>\n",
       "    </tr>\n",
       "    <tr>\n",
       "      <th>290</th>\n",
       "      <td>18</td>\n",
       "      <td>Whatsapp, Youtube, Twitter</td>\n",
       "      <td>3.0</td>\n",
       "      <td>1 - 2.5 hrs</td>\n",
       "      <td>less than 1 hr</td>\n",
       "      <td>5</td>\n",
       "      <td>None of the above</td>\n",
       "      <td>face to face, through phone, Text message</td>\n",
       "      <td>Low</td>\n",
       "    </tr>\n",
       "  </tbody>\n",
       "</table>\n",
       "<p>291 rows × 9 columns</p>\n",
       "</div>"
      ],
      "text/plain": [
       "     What is your age?  \\\n",
       "0                   19   \n",
       "1                   19   \n",
       "2                   19   \n",
       "3                   19   \n",
       "4                   18   \n",
       "..                 ...   \n",
       "286                 19   \n",
       "287                 18   \n",
       "288                 18   \n",
       "289                 19   \n",
       "290                 18   \n",
       "\n",
       "    Which social media platform/s do you like the most or use the most?  \\\n",
       "0                        Whatsapp, Facebook, Instagram                    \n",
       "1               Whatsapp, Facebook, Youtube, Instagram                    \n",
       "2                        Whatsapp, Facebook, Instagram                    \n",
       "3                 Whatsapp, Facebook, Youtube, Twitter                    \n",
       "4                                   Youtube, Instagram                    \n",
       "..                                                 ...                    \n",
       "286       Whatsapp, Facebook, Youtube, Instagram, Hike                    \n",
       "287                                          Instagram                    \n",
       "288                                           Whatsapp                    \n",
       "289                         Whatsapp, Youtube, Twitter                    \n",
       "290                         Whatsapp, Youtube, Twitter                    \n",
       "\n",
       "     Number of social medial do you use ?  \\\n",
       "0                                     3.0   \n",
       "1                                     4.0   \n",
       "2                                     3.0   \n",
       "3                                     4.0   \n",
       "4                                     2.0   \n",
       "..                                    ...   \n",
       "286                                   5.0   \n",
       "287                                   1.0   \n",
       "288                                   1.0   \n",
       "289                                   3.0   \n",
       "290                                   3.0   \n",
       "\n",
       "    How much time do you spend on social media in a day?  \\\n",
       "0                                           upto 4 hrs     \n",
       "1                                      more than 4 hrs     \n",
       "2                                           upto 4 hrs     \n",
       "3                                          1 - 2.5 hrs     \n",
       "4                                           upto 4 hrs     \n",
       "..                                                 ...     \n",
       "286                                        1 - 2.5 hrs     \n",
       "287                                         upto 4 hrs     \n",
       "288                                        1 - 2.5 hrs     \n",
       "289                                    more than 4 hrs     \n",
       "290                                        1 - 2.5 hrs     \n",
       "\n",
       "    How much time do you spend on physical activities in a day?  \\\n",
       "0                                       less than 1 hr            \n",
       "1                                       less than 1 hr            \n",
       "2                                       less than 1 hr            \n",
       "3                                       less than 1 hr            \n",
       "4                                          1 - 2.5 hrs            \n",
       "..                                                 ...            \n",
       "286                                               none            \n",
       "287                                        1 - 2.5 hrs            \n",
       "288                                        1 - 2.5 hrs            \n",
       "289                                     less than 1 hr            \n",
       "290                                     less than 1 hr            \n",
       "\n",
       "     How much do you feel that you are exposed to inappropriate content on these platforms (out of 10)?  \\\n",
       "0                                                    3                                                    \n",
       "1                                                    5                                                    \n",
       "2                                                    5                                                    \n",
       "3                                                    2                                                    \n",
       "4                                                    3                                                    \n",
       "..                                                 ...                                                    \n",
       "286                                                  5                                                    \n",
       "287                                                 10                                                    \n",
       "288                                                  4                                                    \n",
       "289                                                  3                                                    \n",
       "290                                                  5                                                    \n",
       "\n",
       "    Have you ever been a victim of any of these cyber crimes?  \\\n",
       "0                                        Fake profiles          \n",
       "1                                 Photos being misused          \n",
       "2                                              Hacking          \n",
       "3                                    None of the above          \n",
       "4                                    None of the above          \n",
       "..                                                 ...          \n",
       "286                                  None of the above          \n",
       "287                                  None of the above          \n",
       "288                                            Hacking          \n",
       "289                                  None of the above          \n",
       "290                                  None of the above          \n",
       "\n",
       "    Which type of communication do you generally prefer?  \\\n",
       "0                                        through phone     \n",
       "1                                         Text message     \n",
       "2                                        through phone     \n",
       "3                                         face to face     \n",
       "4                                         Text message     \n",
       "..                                                 ...     \n",
       "286                 face to face, through social media     \n",
       "287                through phone, through social media     \n",
       "288                               through social media     \n",
       "289                               through social media     \n",
       "290          face to face, through phone, Text message     \n",
       "\n",
       "    Measurement Effect in human  \n",
       "0                          High  \n",
       "1                          High  \n",
       "2                          High  \n",
       "3                           Low  \n",
       "4                          High  \n",
       "..                          ...  \n",
       "286                         Low  \n",
       "287                        High  \n",
       "288                         Low  \n",
       "289                        High  \n",
       "290                         Low  \n",
       "\n",
       "[291 rows x 9 columns]"
      ]
     },
     "execution_count": 12,
     "metadata": {},
     "output_type": "execute_result"
    }
   ],
   "source": [
    "data_set"
   ]
  },
  {
   "cell_type": "code",
   "execution_count": 13,
   "metadata": {},
   "outputs": [
    {
     "name": "stdout",
     "output_type": "stream",
     "text": [
      "What is your age?                                                                                     0\n",
      "Number of social medial do you use ?                                                                  1\n",
      "How much time do you spend on social media in a day?                                                  0\n",
      "How much time do you spend on physical activities in a day?                                           0\n",
      "How much do you feel that you are exposed to inappropriate content on these platforms (out of 10)?    0\n",
      "Have you ever been a victim of any of these cyber crimes?                                             0\n",
      "Which type of communication do you generally prefer?                                                  0\n",
      "Measurement Effect in human                                                                           0\n",
      "dtype: int64\n"
     ]
    }
   ],
   "source": [
    "\n",
    "data_set = data_set.drop(\n",
    "    \"Which social media platform/s do you like the most or use the most?\", axis=1)\n",
    "print(data_set.isna().sum())\n"
   ]
  },
  {
   "cell_type": "code",
   "execution_count": 14,
   "metadata": {},
   "outputs": [],
   "source": [
    "# Encode Categorical Columns\n",
    "categ = ['How much time do you spend on social media in a day?', 'How much time do you spend on physical activities in a day?',\n",
    "         'Have you ever been a victim of any of these cyber crimes?', 'Which type of communication do you generally prefer?', 'Measurement Effect in human']\n",
    "le = LabelEncoder()\n",
    "data_set[categ] = data_set[categ].apply(le.fit_transform)"
   ]
  },
  {
   "cell_type": "code",
   "execution_count": 15,
   "metadata": {},
   "outputs": [],
   "source": [
    "x = data_set.iloc[:, :-1].values\n",
    "y = data_set.iloc[:, -1].values"
   ]
  },
  {
   "cell_type": "code",
   "execution_count": 17,
   "metadata": {},
   "outputs": [],
   "source": [
    "imp = SimpleImputer(missing_values=np.nan, strategy=\"mean\")\n",
    "Imputer = imp.fit(x[:, 1:2])\n",
    "x[:, 1:2] = imp.fit_transform(x[:, 1:2])\n"
   ]
  },
  {
   "cell_type": "code",
   "execution_count": 18,
   "metadata": {},
   "outputs": [],
   "source": [
    "x_train, x_test, y_train, y_test = train_test_split(\n",
    "    x, y, train_size=0.8, random_state=0)\n"
   ]
  },
  {
   "cell_type": "code",
   "execution_count": 19,
   "metadata": {},
   "outputs": [
    {
     "name": "stdout",
     "output_type": "stream",
     "text": [
      "\n",
      "\n",
      "\n",
      "\n",
      "\n",
      "\t\t\t\t\t\t\t Random Forest\n",
      "Confusion Matrix: \n",
      " [[31  3]\n",
      " [ 2 23]]\n",
      "Accuracy:  0.9152542372881356\n",
      "              precision    recall  f1-score   support\n",
      "\n",
      "           0       0.94      0.91      0.93        34\n",
      "           1       0.88      0.92      0.90        25\n",
      "\n",
      "    accuracy                           0.92        59\n",
      "   macro avg       0.91      0.92      0.91        59\n",
      "weighted avg       0.92      0.92      0.92        59\n",
      "\n"
     ]
    }
   ],
   "source": [
    "print(\"\\n\\n\\n\\n\")\n",
    "print(\"\\t\\t\\t\\t\\t\\t\\t Random Forest\")\n",
    "\n",
    "classifier = RandomForestClassifier(n_estimators=10)\n",
    "classifier.fit(x_train, y_train)\n",
    "\n",
    "y_pred = classifier.predict(x_test)\n",
    "\n",
    "print(\"Confusion Matrix: \\n\", metrics.confusion_matrix(y_test, y_pred))\n",
    "print(\"Accuracy: \", metrics.accuracy_score(y_test, y_pred))\n",
    "print(metrics.classification_report(y_test, y_pred))\n"
   ]
  },
  {
   "cell_type": "code",
   "execution_count": 20,
   "metadata": {},
   "outputs": [
    {
     "name": "stdout",
     "output_type": "stream",
     "text": [
      "AUC Score:  0.98\n"
     ]
    },
    {
     "data": {
      "image/png": "[encoded data removed]",
      "text/plain": [
       "<Figure size 432x288 with 1 Axes>"
      ]
     },
     "metadata": {
      "needs_background": "light"
     },
     "output_type": "display_data"
    }
   ],
   "source": [
    "y_pred_proba = classifier.predict_proba(x_test)[:, 1]\n",
    "AUCLR = metrics.roc_auc_score(y_test, y_pred_proba)\n",
    "print(\"AUC Score: \", AUCLR)\n",
    "fprLR, tprLR, thresholdvalues = metrics.roc_curve(y_test, y_pred_proba)\n",
    "mtp.plot([0, 1], [0, 1], color='red', linestyle='--')\n",
    "mtp.plot(fprLR, tprLR, label=\"Random Forest (area= \" + str(AUCLR)+\")\")\n",
    "mtp.xlabel(\"False Positive Rate\")\n",
    "mtp.ylabel(\"True Positive Rate\")\n",
    "mtp.legend(loc=\"lower right\")\n",
    "mtp.show()\n"
   ]
  },
  {
   "cell_type": "code",
   "execution_count": 21,
   "metadata": {},
   "outputs": [
    {
     "name": "stdout",
     "output_type": "stream",
     "text": [
      "\n",
      "\n",
      "\n",
      "\n",
      "\n",
      "\t\t\t\t\t\t\t Adaboost\n",
      "Confusion Matrix: \n",
      " [[33  1]\n",
      " [ 1 24]]\n",
      "Accuracy:  0.9661016949152542\n",
      "              precision    recall  f1-score   support\n",
      "\n",
      "           0       0.97      0.97      0.97        34\n",
      "           1       0.96      0.96      0.96        25\n",
      "\n",
      "    accuracy                           0.97        59\n",
      "   macro avg       0.97      0.97      0.97        59\n",
      "weighted avg       0.97      0.97      0.97        59\n",
      "\n"
     ]
    }
   ],
   "source": [
    "print(\"\\n\\n\\n\\n\")\n",
    "print(\"\\t\\t\\t\\t\\t\\t\\t Adaboost\")\n",
    "\n",
    "classifier = AdaBoostClassifier(n_estimators=100)\n",
    "classifier.fit(x_train, y_train)\n",
    "\n",
    "y_pred = classifier.predict(x_test)\n",
    "\n",
    "print(\"Confusion Matrix: \\n\", metrics.confusion_matrix(y_test, y_pred))\n",
    "print(\"Accuracy: \", metrics.accuracy_score(y_test, y_pred))\n",
    "print(metrics.classification_report(y_test, y_pred))\n"
   ]
  },
  {
   "cell_type": "code",
   "execution_count": 22,
   "metadata": {},
   "outputs": [
    {
     "name": "stdout",
     "output_type": "stream",
     "text": [
      "AUC Score:  0.9894117647058823\n"
     ]
    },
    {
     "data": {
      "image/png": "[encoded data removed]",
      "text/plain": [
       "<Figure size 432x288 with 1 Axes>"
      ]
     },
     "metadata": {
      "needs_background": "light"
     },
     "output_type": "display_data"
    }
   ],
   "source": [
    "y_pred_proba = classifier.predict_proba(x_test)[:, 1]\n",
    "AUCLR = metrics.roc_auc_score(y_test, y_pred_proba)\n",
    "print(\"AUC Score: \", AUCLR)\n",
    "fprLR, tprLR, thresholdvalues = metrics.roc_curve(y_test, y_pred_proba)\n",
    "mtp.plot([0, 1], [0, 1], color='red', linestyle='--')\n",
    "mtp.plot(fprLR, tprLR, label=\"Adaboost (area= \" + str(AUCLR)+\")\")\n",
    "mtp.xlabel(\"False Positive Rate\")\n",
    "mtp.ylabel(\"True Positive Rate\")\n",
    "mtp.legend(loc=\"lower right\")\n",
    "mtp.show()\n"
   ]
  },
  {
   "cell_type": "code",
   "execution_count": 23,
   "metadata": {},
   "outputs": [
    {
     "name": "stdout",
     "output_type": "stream",
     "text": [
      "\n",
      "\n",
      "\n",
      "\n",
      "\n",
      "\t\t\t\t\t\t\t Gradient Boosting\n",
      "Confusion Matrix: \n",
      " [[31  3]\n",
      " [ 1 24]]\n",
      "Accuracy:  0.9322033898305084\n",
      "              precision    recall  f1-score   support\n",
      "\n",
      "           0       0.97      0.91      0.94        34\n",
      "           1       0.89      0.96      0.92        25\n",
      "\n",
      "    accuracy                           0.93        59\n",
      "   macro avg       0.93      0.94      0.93        59\n",
      "weighted avg       0.93      0.93      0.93        59\n",
      "\n"
     ]
    }
   ],
   "source": [
    "print(\"\\n\\n\\n\\n\")\n",
    "print(\"\\t\\t\\t\\t\\t\\t\\t Gradient Boosting\")\n",
    "\n",
    "classifier = GradientBoostingClassifier(n_estimators=100)\n",
    "classifier.fit(x_train, y_train)\n",
    "\n",
    "y_pred = classifier.predict(x_test)\n",
    "\n",
    "print(\"Confusion Matrix: \\n\", metrics.confusion_matrix(y_test, y_pred))\n",
    "print(\"Accuracy: \", metrics.accuracy_score(y_test, y_pred))\n",
    "print(metrics.classification_report(y_test, y_pred))\n"
   ]
  },
  {
   "cell_type": "code",
   "execution_count": 24,
   "metadata": {},
   "outputs": [
    {
     "name": "stdout",
     "output_type": "stream",
     "text": [
      "AUC Score:  0.9847058823529412\n"
     ]
    },
    {
     "data": {
      "image/png": "[encoded data removed]",
      "text/plain": [
       "<Figure size 432x288 with 1 Axes>"
      ]
     },
     "metadata": {
      "needs_background": "light"
     },
     "output_type": "display_data"
    }
   ],
   "source": [
    "y_pred_proba = classifier.predict_proba(x_test)[:, 1]\n",
    "AUCLR = metrics.roc_auc_score(y_test, y_pred_proba)\n",
    "print(\"AUC Score: \", AUCLR)\n",
    "fprLR, tprLR, thresholdvalues = metrics.roc_curve(y_test, y_pred_proba)\n",
    "mtp.plot([0, 1], [0, 1], color='red', linestyle='--')\n",
    "mtp.plot(fprLR, tprLR, label=\"Gradient Boosting(area= \" + str(AUCLR)+\")\")\n",
    "mtp.xlabel(\"False Positive Rate\")\n",
    "mtp.ylabel(\"True Positive Rate\")\n",
    "mtp.legend(loc=\"lower right\")\n",
    "mtp.show()\n"
   ]
  },
  {
   "cell_type": "code",
   "execution_count": 25,
   "metadata": {},
   "outputs": [
    {
     "name": "stdout",
     "output_type": "stream",
     "text": [
      "\n",
      "\n",
      "\n",
      "\n",
      "\n",
      "\t\t\t\t\t\t\t MLP\n",
      "Confusion Matrix: \n",
      " [[31  3]\n",
      " [ 2 23]]\n",
      "Accuracy:  0.9152542372881356\n",
      "              precision    recall  f1-score   support\n",
      "\n",
      "           0       0.94      0.91      0.93        34\n",
      "           1       0.88      0.92      0.90        25\n",
      "\n",
      "    accuracy                           0.92        59\n",
      "   macro avg       0.91      0.92      0.91        59\n",
      "weighted avg       0.92      0.92      0.92        59\n",
      "\n"
     ]
    },
    {
     "name": "stderr",
     "output_type": "stream",
     "text": [
      "/opt/python/3.10.4/lib/python3.10/site-packages/sklearn/neural_network/_multilayer_perceptron.py:702: ConvergenceWarning: Stochastic Optimizer: Maximum iterations (300) reached and the optimization hasn't converged yet.\n",
      "  warnings.warn(\n"
     ]
    }
   ],
   "source": [
    "print(\"\\n\\n\\n\\n\")\n",
    "print(\"\\t\\t\\t\\t\\t\\t\\t MLP\")\n",
    "\n",
    "classifier = MLPClassifier(random_state=1, max_iter=300)\n",
    "classifier.fit(x_train, y_train)\n",
    "\n",
    "y_pred = classifier.predict(x_test)\n",
    "\n",
    "print(\"Confusion Matrix: \\n\", metrics.confusion_matrix(y_test, y_pred))\n",
    "print(\"Accuracy: \", metrics.accuracy_score(y_test, y_pred))\n",
    "print(metrics.classification_report(y_test, y_pred))\n"
   ]
  },
  {
   "cell_type": "code",
   "execution_count": 26,
   "metadata": {},
   "outputs": [
    {
     "name": "stdout",
     "output_type": "stream",
     "text": [
      "AUC Score:  0.9494117647058824\n"
     ]
    },
    {
     "data": {
      "image/png": "[encoded data removed]",
      "text/plain": [
       "<Figure size 432x288 with 1 Axes>"
      ]
     },
     "metadata": {
      "needs_background": "light"
     },
     "output_type": "display_data"
    }
   ],
   "source": [
    "y_pred_proba = classifier.predict_proba(x_test)[:, 1]\n",
    "AUCLR = metrics.roc_auc_score(y_test, y_pred_proba)\n",
    "print(\"AUC Score: \", AUCLR)\n",
    "fprLR, tprLR, thresholdvalues = metrics.roc_curve(y_test, y_pred_proba)\n",
    "mtp.plot([0, 1], [0, 1], color='red', linestyle='--')\n",
    "mtp.plot(fprLR, tprLR, label=\"MLP(area= \" + str(AUCLR)+\")\")\n",
    "mtp.xlabel(\"False Positive Rate\")\n",
    "mtp.ylabel(\"True Positive Rate\")\n",
    "mtp.legend(loc=\"lower right\")\n",
    "mtp.show()\n"
   ]
  }
 ],
 "metadata": {
  "kernelspec": {
   "display_name": "Python 3.10.4 64-bit",
   "language": "python",
   "name": "python3"
  },
  "language_info": {
   "codemirror_mode": {
    "name": "ipython",
    "version": 3
   },
   "file_extension": ".py",
   "mimetype": "text/x-python",
   "name": "python",
   "nbconvert_exporter": "python",
   "pygments_lexer": "ipython3",
   "version": "3.10.4"
  },
  "orig_nbformat": 4,
  "vscode": {
   "interpreter": {
    "hash": "4f946df053fbf2b937619d3c5458e7af74262f9a954d8797ba0b27400bcafe06"
   }
  }
 },
 "nbformat": 4,
 "nbformat_minor": 2
}
